{
  "nbformat": 4,
  "nbformat_minor": 0,
  "metadata": {
    "kernelspec": {
      "display_name": "Python 3",
      "language": "python",
      "name": "python3"
    },
    "language_info": {
      "codemirror_mode": {
        "name": "ipython",
        "version": 3
      },
      "file_extension": ".py",
      "mimetype": "text/x-python",
      "name": "python",
      "nbconvert_exporter": "python",
      "pygments_lexer": "ipython3",
      "version": "3.7.6"
    },
    "colab": {
      "name": "Copy of Movie_ML.ipynb",
      "provenance": [],
      "collapsed_sections": []
    }
  },
  "cells": [
    {
      "cell_type": "code",
      "metadata": {
        "id": "YQxLdDIMUfsd",
        "outputId": "3b0ff2fe-4c5b-4eb5-c119-17ceb443e583",
        "colab": {
          "base_uri": "https://localhost:8080/"
        }
      },
      "source": [
        "import pandas as pd\n",
        "import re\n",
        "import string\n",
        "import cpi\n",
        "\n"
      ],
      "execution_count": null,
      "outputs": [
        {
          "output_type": "stream",
          "text": [
            "/usr/local/lib/python3.6/dist-packages/cpi/__init__.py:46: StaleDataWarning: CPI data is out of date. To accurately inflate to today's dollars, you must run `cpi.update()`.\n",
            "  warnings.warn(StaleDataWarning())\n"
          ],
          "name": "stderr"
        }
      ]
    },
    {
      "cell_type": "code",
      "metadata": {
        "id": "K5jjgC-DE7gJ",
        "outputId": "fc68f235-d42a-4407-fe23-25a28fc0a797",
        "colab": {
          "base_uri": "https://localhost:8080/"
        }
      },
      "source": [
        "pip install cpi"
      ],
      "execution_count": null,
      "outputs": [
        {
          "output_type": "stream",
          "text": [
            "Collecting cpi\n",
            "\u001b[?25l  Downloading https://files.pythonhosted.org/packages/98/d1/7c28784de685aa00bf33a4080025acbe17a464bcbc14483f14a50d550551/cpi-0.1.16-py2.py3-none-any.whl (25.5MB)\n",
            "\u001b[K     |████████████████████████████████| 25.5MB 170kB/s \n",
            "\u001b[?25hRequirement already satisfied: pandas>=0.23.1 in /usr/local/lib/python3.6/dist-packages (from cpi) (1.1.4)\n",
            "Requirement already satisfied: python-dateutil>=2.7.3 in /usr/local/lib/python3.6/dist-packages (from cpi) (2.8.1)\n",
            "Requirement already satisfied: requests>=2.20.0 in /usr/local/lib/python3.6/dist-packages (from cpi) (2.23.0)\n",
            "Requirement already satisfied: click>=6.7 in /usr/local/lib/python3.6/dist-packages (from cpi) (7.1.2)\n",
            "Requirement already satisfied: numpy>=1.15.4 in /usr/local/lib/python3.6/dist-packages (from pandas>=0.23.1->cpi) (1.18.5)\n",
            "Requirement already satisfied: pytz>=2017.2 in /usr/local/lib/python3.6/dist-packages (from pandas>=0.23.1->cpi) (2018.9)\n",
            "Requirement already satisfied: six>=1.5 in /usr/local/lib/python3.6/dist-packages (from python-dateutil>=2.7.3->cpi) (1.15.0)\n",
            "Requirement already satisfied: idna<3,>=2.5 in /usr/local/lib/python3.6/dist-packages (from requests>=2.20.0->cpi) (2.10)\n",
            "Requirement already satisfied: certifi>=2017.4.17 in /usr/local/lib/python3.6/dist-packages (from requests>=2.20.0->cpi) (2020.6.20)\n",
            "Requirement already satisfied: urllib3!=1.25.0,!=1.25.1,<1.26,>=1.21.1 in /usr/local/lib/python3.6/dist-packages (from requests>=2.20.0->cpi) (1.24.3)\n",
            "Requirement already satisfied: chardet<4,>=3.0.2 in /usr/local/lib/python3.6/dist-packages (from requests>=2.20.0->cpi) (3.0.4)\n",
            "Installing collected packages: cpi\n",
            "Successfully installed cpi-0.1.16\n"
          ],
          "name": "stdout"
        }
      ]
    },
    {
      "cell_type": "code",
      "metadata": {
        "id": "5uRIh111Ufsn",
        "outputId": "49298b1c-0934-44dc-cb2a-c9ab68699c42",
        "colab": {
          "base_uri": "https://localhost:8080/"
        }
      },
      "source": [
        "import os\n",
        "# Find the latest version of spark 3.0  from http://www-us.apache.org/dist/spark/ and enter as the spark version\n",
        "# For example:\n",
        "spark_version = 'spark-3.0.1'\n",
        "\n",
        "os.environ['SPARK_VERSION']=spark_version\n",
        "\n",
        "# Install Spark and Java\n",
        "!apt-get update\n",
        "!apt-get install openjdk-11-jdk-headless -qq > /dev/null\n",
        "!wget -q http://www-us.apache.org/dist/spark/$SPARK_VERSION/$SPARK_VERSION-bin-hadoop2.7.tgz\n",
        "!tar xf $SPARK_VERSION-bin-hadoop2.7.tgz\n",
        "!pip install -q findspark\n",
        "\n",
        "# Set Environment Variables\n",
        "os.environ[\"JAVA_HOME\"] = \"/usr/lib/jvm/java-11-openjdk-amd64\"\n",
        "os.environ[\"SPARK_HOME\"] = f\"/content/{spark_version}-bin-hadoop2.7\"\n",
        "\n",
        "# Start a SparkSession\n",
        "import findspark\n",
        "findspark.init()"
      ],
      "execution_count": null,
      "outputs": [
        {
          "output_type": "stream",
          "text": [
            "\r0% [Working]\r            \rHit:1 http://security.ubuntu.com/ubuntu bionic-security InRelease\n",
            "\r0% [Connecting to archive.ubuntu.com (91.189.88.152)] [Connected to cloud.r-pro\r0% [1 InRelease gpgv 88.7 kB] [Connecting to archive.ubuntu.com (91.189.88.152)\r                                                                               \rIgn:2 https://developer.download.nvidia.com/compute/cuda/repos/ubuntu1804/x86_64  InRelease\n",
            "\r0% [1 InRelease gpgv 88.7 kB] [Waiting for headers] [Waiting for headers] [Wait\r                                                                               \rHit:3 https://cloud.r-project.org/bin/linux/ubuntu bionic-cran40/ InRelease\n",
            "\r0% [1 InRelease gpgv 88.7 kB] [Waiting for headers] [Waiting for headers] [Wait\r                                                                               \rIgn:4 https://developer.download.nvidia.com/compute/machine-learning/repos/ubuntu1804/x86_64  InRelease\n",
            "\r                                                                               \r0% [1 InRelease gpgv 88.7 kB] [Waiting for headers] [Waiting for headers]\r                                                                         \rHit:5 https://developer.download.nvidia.com/compute/cuda/repos/ubuntu1804/x86_64  Release\n",
            "\r0% [1 InRelease gpgv 88.7 kB] [Waiting for headers] [Waiting for headers]\r                                                                         \rHit:6 http://archive.ubuntu.com/ubuntu bionic InRelease\n",
            "Hit:7 http://ppa.launchpad.net/c2d4u.team/c2d4u4.0+/ubuntu bionic InRelease\n",
            "Hit:8 https://developer.download.nvidia.com/compute/machine-learning/repos/ubuntu1804/x86_64  Release\n",
            "Get:9 http://archive.ubuntu.com/ubuntu bionic-updates InRelease [88.7 kB]\n",
            "Hit:10 http://ppa.launchpad.net/graphics-drivers/ppa/ubuntu bionic InRelease\n",
            "Get:11 http://archive.ubuntu.com/ubuntu bionic-backports InRelease [74.6 kB]\n",
            "Fetched 163 kB in 2s (92.3 kB/s)\n",
            "Reading package lists... Done\n"
          ],
          "name": "stdout"
        }
      ]
    },
    {
      "cell_type": "code",
      "metadata": {
        "id": "_XPzrfT9g5xW"
      },
      "source": [
        " # Start Spark session\n",
        "from pyspark.sql import SparkSession\n",
        " from pyspark.ml.feature import RegexTokenizer, Tokenizer\n",
        "from pyspark.sql.functions import col, udf\n",
        "from pyspark.sql.types import IntegerType\n"
      ],
      "execution_count": null,
      "outputs": []
    },
    {
      "cell_type": "code",
      "metadata": {
        "id": "cWIfw5zprGqb"
      },
      "source": [
        "\n",
        "spark = SparkSession.builder.appName(\"tokenizing\").getOrCreate()"
      ],
      "execution_count": null,
      "outputs": []
    },
    {
      "cell_type": "code",
      "metadata": {
        "id": "TPlYScZ4UftD"
      },
      "source": [
        "# Read in data from S3 Buckets\n",
        "spark = SparkSession.builder.appName(\"sparkFunctions\").getOrCreate()\n",
        "from pyspark import SparkFiles\n",
        "url =\"https://raw.githubusercontent.com/timegnome/Project-ML-Movie-Maker/ben/data_joined_30k.csv\"\n",
        "spark.sparkContext.addFile(url)\n",
        "df1 = pd.read_csv(url)"
      ],
      "execution_count": null,
      "outputs": []
    },
    {
      "cell_type": "code",
      "metadata": {
        "id": "C9Mvip46UftK",
        "outputId": "2c2b160b-a728-4010-9164-dd0bf86c564b",
        "colab": {
          "base_uri": "https://localhost:8080/",
          "height": 949
        }
      },
      "source": [
        "df1"
      ],
      "execution_count": null,
      "outputs": [
        {
          "output_type": "execute_result",
          "data": {
            "text/html": [
              "<div>\n",
              "<style scoped>\n",
              "    .dataframe tbody tr th:only-of-type {\n",
              "        vertical-align: middle;\n",
              "    }\n",
              "\n",
              "    .dataframe tbody tr th {\n",
              "        vertical-align: top;\n",
              "    }\n",
              "\n",
              "    .dataframe thead th {\n",
              "        text-align: right;\n",
              "    }\n",
              "</style>\n",
              "<table border=\"1\" class=\"dataframe\">\n",
              "  <thead>\n",
              "    <tr style=\"text-align: right;\">\n",
              "      <th></th>\n",
              "      <th>Id</th>\n",
              "      <th>Id (Keywords.Csv)</th>\n",
              "      <th>Imdb Id</th>\n",
              "      <th>Imdb Id (Movies Metadata.Csv)</th>\n",
              "      <th>Keywords</th>\n",
              "      <th>Original Title</th>\n",
              "      <th>Original Title1</th>\n",
              "      <th>Primary Title</th>\n",
              "      <th>Release Date</th>\n",
              "      <th>Start Year</th>\n",
              "      <th>Status</th>\n",
              "      <th>Title</th>\n",
              "      <th>Budget</th>\n",
              "      <th>Revenue</th>\n",
              "      <th>Runtime</th>\n",
              "      <th>Vote Average</th>\n",
              "      <th>Vote Count</th>\n",
              "    </tr>\n",
              "  </thead>\n",
              "  <tbody>\n",
              "    <tr>\n",
              "      <th>0</th>\n",
              "      <td>862</td>\n",
              "      <td>862</td>\n",
              "      <td>tt0114709</td>\n",
              "      <td>tt0114709</td>\n",
              "      <td>[{'id': 931, 'name': 'jealousy'}, {'id': 4290,...</td>\n",
              "      <td>Toy Story</td>\n",
              "      <td>Toy Story</td>\n",
              "      <td>Toy Story</td>\n",
              "      <td>10/30/1995</td>\n",
              "      <td>1995</td>\n",
              "      <td>Released</td>\n",
              "      <td>Toy Story</td>\n",
              "      <td>30000000</td>\n",
              "      <td>373554033.0</td>\n",
              "      <td>81.0</td>\n",
              "      <td>7.7</td>\n",
              "      <td>5415.0</td>\n",
              "    </tr>\n",
              "    <tr>\n",
              "      <th>1</th>\n",
              "      <td>8844</td>\n",
              "      <td>8844</td>\n",
              "      <td>tt0113497</td>\n",
              "      <td>tt0113497</td>\n",
              "      <td>[{'id': 10090, 'name': 'board game'}, {'id': 1...</td>\n",
              "      <td>Jumanji</td>\n",
              "      <td>Jumanji</td>\n",
              "      <td>Jumanji</td>\n",
              "      <td>12/15/1995</td>\n",
              "      <td>1995</td>\n",
              "      <td>Released</td>\n",
              "      <td>Jumanji</td>\n",
              "      <td>65000000</td>\n",
              "      <td>262797249.0</td>\n",
              "      <td>104.0</td>\n",
              "      <td>6.9</td>\n",
              "      <td>2413.0</td>\n",
              "    </tr>\n",
              "    <tr>\n",
              "      <th>2</th>\n",
              "      <td>15602</td>\n",
              "      <td>15602</td>\n",
              "      <td>tt0113228</td>\n",
              "      <td>tt0113228</td>\n",
              "      <td>[{'id': 1495, 'name': 'fishing'}, {'id': 12392...</td>\n",
              "      <td>Grumpier Old Men</td>\n",
              "      <td>Grumpier Old Men</td>\n",
              "      <td>Grumpier Old Men</td>\n",
              "      <td>12/22/1995</td>\n",
              "      <td>1995</td>\n",
              "      <td>Released</td>\n",
              "      <td>Grumpier Old Men</td>\n",
              "      <td>0</td>\n",
              "      <td>0.0</td>\n",
              "      <td>101.0</td>\n",
              "      <td>6.5</td>\n",
              "      <td>92.0</td>\n",
              "    </tr>\n",
              "    <tr>\n",
              "      <th>3</th>\n",
              "      <td>31357</td>\n",
              "      <td>31357</td>\n",
              "      <td>tt0114885</td>\n",
              "      <td>tt0114885</td>\n",
              "      <td>[{'id': 818, 'name': 'based on novel'}, {'id':...</td>\n",
              "      <td>Waiting to Exhale</td>\n",
              "      <td>Waiting to Exhale</td>\n",
              "      <td>Waiting to Exhale</td>\n",
              "      <td>12/22/1995</td>\n",
              "      <td>1995</td>\n",
              "      <td>Released</td>\n",
              "      <td>Waiting to Exhale</td>\n",
              "      <td>16000000</td>\n",
              "      <td>81452156.0</td>\n",
              "      <td>127.0</td>\n",
              "      <td>6.1</td>\n",
              "      <td>34.0</td>\n",
              "    </tr>\n",
              "    <tr>\n",
              "      <th>4</th>\n",
              "      <td>11862</td>\n",
              "      <td>11862</td>\n",
              "      <td>tt0113041</td>\n",
              "      <td>tt0113041</td>\n",
              "      <td>[{'id': 1009, 'name': 'baby'}, {'id': 1599, 'n...</td>\n",
              "      <td>Father of the Bride Part II</td>\n",
              "      <td>Father of the Bride Part II</td>\n",
              "      <td>Father of the Bride Part II</td>\n",
              "      <td>2/10/1995</td>\n",
              "      <td>1995</td>\n",
              "      <td>Released</td>\n",
              "      <td>Father of the Bride Part II</td>\n",
              "      <td>0</td>\n",
              "      <td>76578911.0</td>\n",
              "      <td>106.0</td>\n",
              "      <td>5.7</td>\n",
              "      <td>173.0</td>\n",
              "    </tr>\n",
              "    <tr>\n",
              "      <th>...</th>\n",
              "      <td>...</td>\n",
              "      <td>...</td>\n",
              "      <td>...</td>\n",
              "      <td>...</td>\n",
              "      <td>...</td>\n",
              "      <td>...</td>\n",
              "      <td>...</td>\n",
              "      <td>...</td>\n",
              "      <td>...</td>\n",
              "      <td>...</td>\n",
              "      <td>...</td>\n",
              "      <td>...</td>\n",
              "      <td>...</td>\n",
              "      <td>...</td>\n",
              "      <td>...</td>\n",
              "      <td>...</td>\n",
              "      <td>...</td>\n",
              "    </tr>\n",
              "    <tr>\n",
              "      <th>30516</th>\n",
              "      <td>289923</td>\n",
              "      <td>289923</td>\n",
              "      <td>tt0252966</td>\n",
              "      <td>tt0252966</td>\n",
              "      <td>[{'id': 616, 'name': 'witch'}, {'id': 2035, 'n...</td>\n",
              "      <td>The Burkittsville 7</td>\n",
              "      <td>The Burkittsville 7</td>\n",
              "      <td>The Burkittsville 7</td>\n",
              "      <td>10/3/2000</td>\n",
              "      <td>2000</td>\n",
              "      <td>Released</td>\n",
              "      <td>The Burkittsville 7</td>\n",
              "      <td>0</td>\n",
              "      <td>0.0</td>\n",
              "      <td>30.0</td>\n",
              "      <td>7.0</td>\n",
              "      <td>1.0</td>\n",
              "    </tr>\n",
              "    <tr>\n",
              "      <th>30517</th>\n",
              "      <td>222848</td>\n",
              "      <td>222848</td>\n",
              "      <td>tt0112613</td>\n",
              "      <td>tt0112613</td>\n",
              "      <td>[]</td>\n",
              "      <td>Caged Heat 3000</td>\n",
              "      <td>Caged Heat 3000</td>\n",
              "      <td>Caged Heat 3000</td>\n",
              "      <td>1/1/1995</td>\n",
              "      <td>1995</td>\n",
              "      <td>Released</td>\n",
              "      <td>Caged Heat 3000</td>\n",
              "      <td>0</td>\n",
              "      <td>0.0</td>\n",
              "      <td>85.0</td>\n",
              "      <td>3.5</td>\n",
              "      <td>1.0</td>\n",
              "    </tr>\n",
              "    <tr>\n",
              "      <th>30518</th>\n",
              "      <td>30840</td>\n",
              "      <td>30840</td>\n",
              "      <td>tt0102797</td>\n",
              "      <td>tt0102797</td>\n",
              "      <td>[]</td>\n",
              "      <td>Robin Hood</td>\n",
              "      <td>Robin Hood</td>\n",
              "      <td>Robin Hood</td>\n",
              "      <td>5/13/1991</td>\n",
              "      <td>1991</td>\n",
              "      <td>Released</td>\n",
              "      <td>Robin Hood</td>\n",
              "      <td>0</td>\n",
              "      <td>0.0</td>\n",
              "      <td>104.0</td>\n",
              "      <td>5.7</td>\n",
              "      <td>26.0</td>\n",
              "    </tr>\n",
              "    <tr>\n",
              "      <th>30519</th>\n",
              "      <td>67758</td>\n",
              "      <td>67758</td>\n",
              "      <td>tt0303758</td>\n",
              "      <td>tt0303758</td>\n",
              "      <td>[]</td>\n",
              "      <td>Betrayal</td>\n",
              "      <td>Betrayal</td>\n",
              "      <td>Betrayal</td>\n",
              "      <td>8/1/2003</td>\n",
              "      <td>2003</td>\n",
              "      <td>Released</td>\n",
              "      <td>Betrayal</td>\n",
              "      <td>0</td>\n",
              "      <td>0.0</td>\n",
              "      <td>90.0</td>\n",
              "      <td>3.8</td>\n",
              "      <td>6.0</td>\n",
              "    </tr>\n",
              "    <tr>\n",
              "      <th>30520</th>\n",
              "      <td>227506</td>\n",
              "      <td>227506</td>\n",
              "      <td>tt0008536</td>\n",
              "      <td>tt0008536</td>\n",
              "      <td>[]</td>\n",
              "      <td>Satana likuyushchiy</td>\n",
              "      <td>Satana likuyushchiy</td>\n",
              "      <td>Satan Triumphant</td>\n",
              "      <td>10/21/1917</td>\n",
              "      <td>1917</td>\n",
              "      <td>Released</td>\n",
              "      <td>Satan Triumphant</td>\n",
              "      <td>0</td>\n",
              "      <td>0.0</td>\n",
              "      <td>87.0</td>\n",
              "      <td>0.0</td>\n",
              "      <td>0.0</td>\n",
              "    </tr>\n",
              "  </tbody>\n",
              "</table>\n",
              "<p>30521 rows × 17 columns</p>\n",
              "</div>"
            ],
            "text/plain": [
              "           Id  Id (Keywords.Csv)    Imdb Id  ... Runtime Vote Average Vote Count\n",
              "0         862                862  tt0114709  ...    81.0          7.7     5415.0\n",
              "1        8844               8844  tt0113497  ...   104.0          6.9     2413.0\n",
              "2       15602              15602  tt0113228  ...   101.0          6.5       92.0\n",
              "3       31357              31357  tt0114885  ...   127.0          6.1       34.0\n",
              "4       11862              11862  tt0113041  ...   106.0          5.7      173.0\n",
              "...       ...                ...        ...  ...     ...          ...        ...\n",
              "30516  289923             289923  tt0252966  ...    30.0          7.0        1.0\n",
              "30517  222848             222848  tt0112613  ...    85.0          3.5        1.0\n",
              "30518   30840              30840  tt0102797  ...   104.0          5.7       26.0\n",
              "30519   67758              67758  tt0303758  ...    90.0          3.8        6.0\n",
              "30520  227506             227506  tt0008536  ...    87.0          0.0        0.0\n",
              "\n",
              "[30521 rows x 17 columns]"
            ]
          },
          "metadata": {
            "tags": []
          },
          "execution_count": 41
        }
      ]
    },
    {
      "cell_type": "code",
      "metadata": {
        "id": "fJ4wZR5aUftz"
      },
      "source": [
        "df1=df1.drop(columns=['Id','Imdb Id (Movies Metadata.Csv)',])"
      ],
      "execution_count": null,
      "outputs": []
    },
    {
      "cell_type": "code",
      "metadata": {
        "id": "eRyN4KX6nr22"
      },
      "source": [
        "txt=df1['Keywords'][0]\n"
      ],
      "execution_count": null,
      "outputs": []
    },
    {
      "cell_type": "markdown",
      "metadata": {
        "id": "hnysOYEy1V5g"
      },
      "source": [
        ""
      ]
    },
    {
      "cell_type": "code",
      "metadata": {
        "id": "4_YCLloK6bH_",
        "outputId": "e0636588-81ec-4ecc-e6a7-6f8c80c1d7a2",
        "colab": {
          "base_uri": "https://localhost:8080/",
          "height": 86
        }
      },
      "source": [
        "txt"
      ],
      "execution_count": null,
      "outputs": [
        {
          "output_type": "execute_result",
          "data": {
            "application/vnd.google.colaboratory.intrinsic+json": {
              "type": "string"
            },
            "text/plain": [
              "\"[{'id': 931, 'name': 'jealousy'}, {'id': 4290, 'name': 'toy'}, {'id': 5202, 'name': 'boy'}, {'id': 6054, 'name': 'friendship'}, {'id': 9713, 'name': 'friends'}, {'id': 9823, 'name': 'rivalry'}, {'id': 165503, 'name': 'boy next door'}, {'id': 170722, 'name': 'new toy'}, {'id': 187065, 'name': 'toy comes to life'}]\""
            ]
          },
          "metadata": {
            "tags": []
          },
          "execution_count": 93
        }
      ]
    },
    {
      "cell_type": "code",
      "metadata": {
        "id": "BrVcXWBp2HY_",
        "outputId": "ae9f0067-3625-4433-eaa4-622405b3415e",
        "colab": {
          "base_uri": "https://localhost:8080/"
        }
      },
      "source": [
        "x = re.sub(\"{'id': [0-9]+, 'name': '\",\"\",txt)\n",
        "x = re.sub(\"\\[|'}\\]\",\"\",x)\n",
        "x = re.sub(\"'}, \",\",\",x)\n",
        "print (x)"
      ],
      "execution_count": null,
      "outputs": [
        {
          "output_type": "stream",
          "text": [
            "jealousy,toy,boy,friendship,friends,rivalry,boy next door,new toy,toy comes to life\n"
          ],
          "name": "stdout"
        }
      ]
    },
    {
      "cell_type": "code",
      "metadata": {
        "id": "nayGG1yv9sWG",
        "outputId": "d8f12568-b3bd-457d-b419-1c4e7bb3b96c",
        "colab": {
          "base_uri": "https://localhost:8080/"
        }
      },
      "source": [
        "df1['Keywords'].head()"
      ],
      "execution_count": null,
      "outputs": [
        {
          "output_type": "execute_result",
          "data": {
            "text/plain": [
              "0    [{'id': 931, 'name': 'jealousy'}, {'id': 4290,...\n",
              "1    [{'id': 10090, 'name': 'board game'}, {'id': 1...\n",
              "2    [{'id': 1495, 'name': 'fishing'}, {'id': 12392...\n",
              "3    [{'id': 818, 'name': 'based on novel'}, {'id':...\n",
              "4    [{'id': 1009, 'name': 'baby'}, {'id': 1599, 'n...\n",
              "Name: Keywords, dtype: object"
            ]
          },
          "metadata": {
            "tags": []
          },
          "execution_count": 98
        }
      ]
    },
    {
      "cell_type": "code",
      "metadata": {
        "id": "4Pw68dE71sA5"
      },
      "source": [
        "\n",
        "new_keywords = [] \n",
        "for i in df1[\"Keywords\"]: \n",
        "       x = re.sub(\"{'id': [0-9]+, 'name': '\",\"\",i)\n",
        "       x = re.sub(\"\\[|'}\\]\",\"\",x)\n",
        "       x = re.sub(\"'}, \",\",\",x)\n",
        "       x=x.split(',')\n",
        "       new_keywords.append(x)\n",
        "       \n",
        "df1[\"New Key\"] = new_keywords\n",
        "\n",
        "\n",
        "\n"
      ],
      "execution_count": null,
      "outputs": []
    },
    {
      "cell_type": "code",
      "metadata": {
        "id": "Lcuy_jXP2sqX",
        "outputId": "2f3a7e03-db55-46f2-ea47-239e8929fd25",
        "colab": {
          "base_uri": "https://localhost:8080/"
        }
      },
      "source": [
        "df1['New Key'][3]"
      ],
      "execution_count": null,
      "outputs": [
        {
          "output_type": "execute_result",
          "data": {
            "text/plain": [
              "['based on novel',\n",
              " 'interracial relationship',\n",
              " 'single mother',\n",
              " 'divorce',\n",
              " 'chick flick']"
            ]
          },
          "metadata": {
            "tags": []
          },
          "execution_count": 112
        }
      ]
    },
    {
      "cell_type": "code",
      "metadata": {
        "id": "0oqE-RhkylIm"
      },
      "source": [
        "main_df=df1.drop(columns=['Keywords','Original Title','Original Title1','Primary Title', 'Status'])"
      ],
      "execution_count": null,
      "outputs": []
    },
    {
      "cell_type": "code",
      "metadata": {
        "id": "G4C3i8HcDqAX"
      },
      "source": [
        ""
      ],
      "execution_count": null,
      "outputs": []
    },
    {
      "cell_type": "code",
      "metadata": {
        "id": "l6ddgaAaBgzL"
      },
      "source": [
        "\n"
      ],
      "execution_count": null,
      "outputs": []
    },
    {
      "cell_type": "code",
      "metadata": {
        "id": "YVkv8cT2Uft5"
      },
      "source": [
        ""
      ],
      "execution_count": null,
      "outputs": []
    },
    {
      "cell_type": "markdown",
      "metadata": {
        "id": "YvsT1hHYuxeL"
      },
      "source": [
        ""
      ]
    },
    {
      "cell_type": "code",
      "metadata": {
        "id": "MAAPb9xbUfuu"
      },
      "source": [
        ""
      ],
      "execution_count": null,
      "outputs": []
    },
    {
      "cell_type": "code",
      "metadata": {
        "id": "c7wOXcw-Ufuz"
      },
      "source": [
        ""
      ],
      "execution_count": null,
      "outputs": []
    },
    {
      "cell_type": "code",
      "metadata": {
        "id": "Uk0xOoQxUfwN"
      },
      "source": [
        ""
      ],
      "execution_count": null,
      "outputs": []
    },
    {
      "cell_type": "code",
      "metadata": {
        "id": "tUl4lkT6UfwS",
        "outputId": "0881cc18-5fb2-464c-f1bb-1a421d609a6c"
      },
      "source": [
        ""
      ],
      "execution_count": null,
      "outputs": [
        {
          "output_type": "execute_result",
          "data": {
            "text/html": [
              "<div>\n",
              "<style scoped>\n",
              "    .dataframe tbody tr th:only-of-type {\n",
              "        vertical-align: middle;\n",
              "    }\n",
              "\n",
              "    .dataframe tbody tr th {\n",
              "        vertical-align: top;\n",
              "    }\n",
              "\n",
              "    .dataframe thead th {\n",
              "        text-align: right;\n",
              "    }\n",
              "</style>\n",
              "<table border=\"1\" class=\"dataframe\">\n",
              "  <thead>\n",
              "    <tr style=\"text-align: right;\">\n",
              "      <th></th>\n",
              "      <th>Id</th>\n",
              "      <th>Id (Keywords.Csv)</th>\n",
              "      <th>Imdb Id</th>\n",
              "      <th>Imdb Id (Movies Metadata.Csv)</th>\n",
              "      <th>Keywords</th>\n",
              "      <th>Original Title</th>\n",
              "      <th>Original Title1</th>\n",
              "      <th>Primary Title</th>\n",
              "      <th>Release Date</th>\n",
              "      <th>Start Year</th>\n",
              "      <th>Status</th>\n",
              "      <th>Title</th>\n",
              "      <th>Budget</th>\n",
              "      <th>Revenue</th>\n",
              "      <th>Runtime</th>\n",
              "      <th>Vote Average</th>\n",
              "      <th>Vote Count</th>\n",
              "    </tr>\n",
              "  </thead>\n",
              "  <tbody>\n",
              "    <tr>\n",
              "      <th>0</th>\n",
              "      <td>862</td>\n",
              "      <td>862</td>\n",
              "      <td>tt0114709</td>\n",
              "      <td>tt0114709</td>\n",
              "      <td>[{'id': 931, 'name': 'jealousy'}, {'id': 4290,...</td>\n",
              "      <td>Toy Story</td>\n",
              "      <td>Toy Story</td>\n",
              "      <td>Toy Story</td>\n",
              "      <td>10/30/1995</td>\n",
              "      <td>1995</td>\n",
              "      <td>Released</td>\n",
              "      <td>Toy Story</td>\n",
              "      <td>30000000</td>\n",
              "      <td>373554033.0</td>\n",
              "      <td>81.0</td>\n",
              "      <td>7.7</td>\n",
              "      <td>5415.0</td>\n",
              "    </tr>\n",
              "    <tr>\n",
              "      <th>1</th>\n",
              "      <td>8844</td>\n",
              "      <td>8844</td>\n",
              "      <td>tt0113497</td>\n",
              "      <td>tt0113497</td>\n",
              "      <td>[{'id': 10090, 'name': 'board game'}, {'id': 1...</td>\n",
              "      <td>Jumanji</td>\n",
              "      <td>Jumanji</td>\n",
              "      <td>Jumanji</td>\n",
              "      <td>12/15/1995</td>\n",
              "      <td>1995</td>\n",
              "      <td>Released</td>\n",
              "      <td>Jumanji</td>\n",
              "      <td>65000000</td>\n",
              "      <td>262797249.0</td>\n",
              "      <td>104.0</td>\n",
              "      <td>6.9</td>\n",
              "      <td>2413.0</td>\n",
              "    </tr>\n",
              "    <tr>\n",
              "      <th>2</th>\n",
              "      <td>15602</td>\n",
              "      <td>15602</td>\n",
              "      <td>tt0113228</td>\n",
              "      <td>tt0113228</td>\n",
              "      <td>[{'id': 1495, 'name': 'fishing'}, {'id': 12392...</td>\n",
              "      <td>Grumpier Old Men</td>\n",
              "      <td>Grumpier Old Men</td>\n",
              "      <td>Grumpier Old Men</td>\n",
              "      <td>12/22/1995</td>\n",
              "      <td>1995</td>\n",
              "      <td>Released</td>\n",
              "      <td>Grumpier Old Men</td>\n",
              "      <td>0</td>\n",
              "      <td>0.0</td>\n",
              "      <td>101.0</td>\n",
              "      <td>6.5</td>\n",
              "      <td>92.0</td>\n",
              "    </tr>\n",
              "    <tr>\n",
              "      <th>3</th>\n",
              "      <td>31357</td>\n",
              "      <td>31357</td>\n",
              "      <td>tt0114885</td>\n",
              "      <td>tt0114885</td>\n",
              "      <td>[{'id': 818, 'name': 'based on novel'}, {'id':...</td>\n",
              "      <td>Waiting to Exhale</td>\n",
              "      <td>Waiting to Exhale</td>\n",
              "      <td>Waiting to Exhale</td>\n",
              "      <td>12/22/1995</td>\n",
              "      <td>1995</td>\n",
              "      <td>Released</td>\n",
              "      <td>Waiting to Exhale</td>\n",
              "      <td>16000000</td>\n",
              "      <td>81452156.0</td>\n",
              "      <td>127.0</td>\n",
              "      <td>6.1</td>\n",
              "      <td>34.0</td>\n",
              "    </tr>\n",
              "    <tr>\n",
              "      <th>4</th>\n",
              "      <td>11862</td>\n",
              "      <td>11862</td>\n",
              "      <td>tt0113041</td>\n",
              "      <td>tt0113041</td>\n",
              "      <td>[{'id': 1009, 'name': 'baby'}, {'id': 1599, 'n...</td>\n",
              "      <td>Father of the Bride Part II</td>\n",
              "      <td>Father of the Bride Part II</td>\n",
              "      <td>Father of the Bride Part II</td>\n",
              "      <td>2/10/1995</td>\n",
              "      <td>1995</td>\n",
              "      <td>Released</td>\n",
              "      <td>Father of the Bride Part II</td>\n",
              "      <td>0</td>\n",
              "      <td>76578911.0</td>\n",
              "      <td>106.0</td>\n",
              "      <td>5.7</td>\n",
              "      <td>173.0</td>\n",
              "    </tr>\n",
              "    <tr>\n",
              "      <th>...</th>\n",
              "      <td>...</td>\n",
              "      <td>...</td>\n",
              "      <td>...</td>\n",
              "      <td>...</td>\n",
              "      <td>...</td>\n",
              "      <td>...</td>\n",
              "      <td>...</td>\n",
              "      <td>...</td>\n",
              "      <td>...</td>\n",
              "      <td>...</td>\n",
              "      <td>...</td>\n",
              "      <td>...</td>\n",
              "      <td>...</td>\n",
              "      <td>...</td>\n",
              "      <td>...</td>\n",
              "      <td>...</td>\n",
              "      <td>...</td>\n",
              "    </tr>\n",
              "    <tr>\n",
              "      <th>30516</th>\n",
              "      <td>289923</td>\n",
              "      <td>289923</td>\n",
              "      <td>tt0252966</td>\n",
              "      <td>tt0252966</td>\n",
              "      <td>[{'id': 616, 'name': 'witch'}, {'id': 2035, 'n...</td>\n",
              "      <td>The Burkittsville 7</td>\n",
              "      <td>The Burkittsville 7</td>\n",
              "      <td>The Burkittsville 7</td>\n",
              "      <td>10/3/2000</td>\n",
              "      <td>2000</td>\n",
              "      <td>Released</td>\n",
              "      <td>The Burkittsville 7</td>\n",
              "      <td>0</td>\n",
              "      <td>0.0</td>\n",
              "      <td>30.0</td>\n",
              "      <td>7.0</td>\n",
              "      <td>1.0</td>\n",
              "    </tr>\n",
              "    <tr>\n",
              "      <th>30517</th>\n",
              "      <td>222848</td>\n",
              "      <td>222848</td>\n",
              "      <td>tt0112613</td>\n",
              "      <td>tt0112613</td>\n",
              "      <td>[]</td>\n",
              "      <td>Caged Heat 3000</td>\n",
              "      <td>Caged Heat 3000</td>\n",
              "      <td>Caged Heat 3000</td>\n",
              "      <td>1/1/1995</td>\n",
              "      <td>1995</td>\n",
              "      <td>Released</td>\n",
              "      <td>Caged Heat 3000</td>\n",
              "      <td>0</td>\n",
              "      <td>0.0</td>\n",
              "      <td>85.0</td>\n",
              "      <td>3.5</td>\n",
              "      <td>1.0</td>\n",
              "    </tr>\n",
              "    <tr>\n",
              "      <th>30518</th>\n",
              "      <td>30840</td>\n",
              "      <td>30840</td>\n",
              "      <td>tt0102797</td>\n",
              "      <td>tt0102797</td>\n",
              "      <td>[]</td>\n",
              "      <td>Robin Hood</td>\n",
              "      <td>Robin Hood</td>\n",
              "      <td>Robin Hood</td>\n",
              "      <td>5/13/1991</td>\n",
              "      <td>1991</td>\n",
              "      <td>Released</td>\n",
              "      <td>Robin Hood</td>\n",
              "      <td>0</td>\n",
              "      <td>0.0</td>\n",
              "      <td>104.0</td>\n",
              "      <td>5.7</td>\n",
              "      <td>26.0</td>\n",
              "    </tr>\n",
              "    <tr>\n",
              "      <th>30519</th>\n",
              "      <td>67758</td>\n",
              "      <td>67758</td>\n",
              "      <td>tt0303758</td>\n",
              "      <td>tt0303758</td>\n",
              "      <td>[]</td>\n",
              "      <td>Betrayal</td>\n",
              "      <td>Betrayal</td>\n",
              "      <td>Betrayal</td>\n",
              "      <td>8/1/2003</td>\n",
              "      <td>2003</td>\n",
              "      <td>Released</td>\n",
              "      <td>Betrayal</td>\n",
              "      <td>0</td>\n",
              "      <td>0.0</td>\n",
              "      <td>90.0</td>\n",
              "      <td>3.8</td>\n",
              "      <td>6.0</td>\n",
              "    </tr>\n",
              "    <tr>\n",
              "      <th>30520</th>\n",
              "      <td>227506</td>\n",
              "      <td>227506</td>\n",
              "      <td>tt0008536</td>\n",
              "      <td>tt0008536</td>\n",
              "      <td>[]</td>\n",
              "      <td>Satana likuyushchiy</td>\n",
              "      <td>Satana likuyushchiy</td>\n",
              "      <td>Satan Triumphant</td>\n",
              "      <td>10/21/1917</td>\n",
              "      <td>1917</td>\n",
              "      <td>Released</td>\n",
              "      <td>Satan Triumphant</td>\n",
              "      <td>0</td>\n",
              "      <td>0.0</td>\n",
              "      <td>87.0</td>\n",
              "      <td>0.0</td>\n",
              "      <td>0.0</td>\n",
              "    </tr>\n",
              "  </tbody>\n",
              "</table>\n",
              "<p>30521 rows × 17 columns</p>\n",
              "</div>"
            ],
            "text/plain": [
              "           Id  Id (Keywords.Csv)    Imdb Id Imdb Id (Movies Metadata.Csv)  \\\n",
              "0         862                862  tt0114709                     tt0114709   \n",
              "1        8844               8844  tt0113497                     tt0113497   \n",
              "2       15602              15602  tt0113228                     tt0113228   \n",
              "3       31357              31357  tt0114885                     tt0114885   \n",
              "4       11862              11862  tt0113041                     tt0113041   \n",
              "...       ...                ...        ...                           ...   \n",
              "30516  289923             289923  tt0252966                     tt0252966   \n",
              "30517  222848             222848  tt0112613                     tt0112613   \n",
              "30518   30840              30840  tt0102797                     tt0102797   \n",
              "30519   67758              67758  tt0303758                     tt0303758   \n",
              "30520  227506             227506  tt0008536                     tt0008536   \n",
              "\n",
              "                                                Keywords  \\\n",
              "0      [{'id': 931, 'name': 'jealousy'}, {'id': 4290,...   \n",
              "1      [{'id': 10090, 'name': 'board game'}, {'id': 1...   \n",
              "2      [{'id': 1495, 'name': 'fishing'}, {'id': 12392...   \n",
              "3      [{'id': 818, 'name': 'based on novel'}, {'id':...   \n",
              "4      [{'id': 1009, 'name': 'baby'}, {'id': 1599, 'n...   \n",
              "...                                                  ...   \n",
              "30516  [{'id': 616, 'name': 'witch'}, {'id': 2035, 'n...   \n",
              "30517                                                 []   \n",
              "30518                                                 []   \n",
              "30519                                                 []   \n",
              "30520                                                 []   \n",
              "\n",
              "                    Original Title              Original Title1  \\\n",
              "0                        Toy Story                    Toy Story   \n",
              "1                          Jumanji                      Jumanji   \n",
              "2                 Grumpier Old Men             Grumpier Old Men   \n",
              "3                Waiting to Exhale            Waiting to Exhale   \n",
              "4      Father of the Bride Part II  Father of the Bride Part II   \n",
              "...                            ...                          ...   \n",
              "30516          The Burkittsville 7          The Burkittsville 7   \n",
              "30517              Caged Heat 3000              Caged Heat 3000   \n",
              "30518                   Robin Hood                   Robin Hood   \n",
              "30519                     Betrayal                     Betrayal   \n",
              "30520          Satana likuyushchiy          Satana likuyushchiy   \n",
              "\n",
              "                     Primary Title Release Date  Start Year    Status  \\\n",
              "0                        Toy Story   10/30/1995        1995  Released   \n",
              "1                          Jumanji   12/15/1995        1995  Released   \n",
              "2                 Grumpier Old Men   12/22/1995        1995  Released   \n",
              "3                Waiting to Exhale   12/22/1995        1995  Released   \n",
              "4      Father of the Bride Part II    2/10/1995        1995  Released   \n",
              "...                            ...          ...         ...       ...   \n",
              "30516          The Burkittsville 7    10/3/2000        2000  Released   \n",
              "30517              Caged Heat 3000     1/1/1995        1995  Released   \n",
              "30518                   Robin Hood    5/13/1991        1991  Released   \n",
              "30519                     Betrayal     8/1/2003        2003  Released   \n",
              "30520             Satan Triumphant   10/21/1917        1917  Released   \n",
              "\n",
              "                             Title    Budget      Revenue  Runtime  \\\n",
              "0                        Toy Story  30000000  373554033.0     81.0   \n",
              "1                          Jumanji  65000000  262797249.0    104.0   \n",
              "2                 Grumpier Old Men         0          0.0    101.0   \n",
              "3                Waiting to Exhale  16000000   81452156.0    127.0   \n",
              "4      Father of the Bride Part II         0   76578911.0    106.0   \n",
              "...                            ...       ...          ...      ...   \n",
              "30516          The Burkittsville 7         0          0.0     30.0   \n",
              "30517              Caged Heat 3000         0          0.0     85.0   \n",
              "30518                   Robin Hood         0          0.0    104.0   \n",
              "30519                     Betrayal         0          0.0     90.0   \n",
              "30520             Satan Triumphant         0          0.0     87.0   \n",
              "\n",
              "       Vote Average  Vote Count  \n",
              "0               7.7      5415.0  \n",
              "1               6.9      2413.0  \n",
              "2               6.5        92.0  \n",
              "3               6.1        34.0  \n",
              "4               5.7       173.0  \n",
              "...             ...         ...  \n",
              "30516           7.0         1.0  \n",
              "30517           3.5         1.0  \n",
              "30518           5.7        26.0  \n",
              "30519           3.8         6.0  \n",
              "30520           0.0         0.0  \n",
              "\n",
              "[30521 rows x 17 columns]"
            ]
          },
          "metadata": {
            "tags": []
          },
          "execution_count": 4
        }
      ]
    },
    {
      "cell_type": "code",
      "metadata": {
        "id": "yKE_6FbNUfxD"
      },
      "source": [
        ""
      ],
      "execution_count": null,
      "outputs": []
    }
  ]
}